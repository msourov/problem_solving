{
 "cells": [
  {
   "cell_type": "code",
   "execution_count": null,
   "id": "1edcc0d7",
   "metadata": {},
   "outputs": [],
   "source": [
    "def findSum(numbers, queries):\n",
    "    sub_sum = []\n",
    "    for i in range(len(queries)):\n",
    "        l, r, x = queries[i]\n",
    "        if 0 in numbers[l, r]:\n",
    "            sub_sum.append(sum(numbers[l:r+1], x*numbers[l, r+1].count(0)))\n",
    "        else:\n",
    "            sub_sum.append(sum(numbers[l:r+1]))\n",
    "    return sub_sum\n",
    "    \n",
    "if __name__ == '__main__':\n",
    "    numbers_count = int(input().strip())\n",
    "    numbers = []\n",
    "    for _ in range(numbers_count):\n",
    "        numbers_item = int(input().strip())\n",
    "        numbers.append(numbers_item)\n",
    "    queries_rows = int(input().strip())\n",
    "    queries_columns = int(input().strip())\n",
    "    queries = []\n",
    "\n",
    "    for _ in range(queries_rows):\n",
    "        queries.append(list(map(int, input().rstrip().split())))\n",
    "\n",
    "    result = findSum(numbers, queries)\n",
    "    print(result)"
   ]
  },
  {
   "cell_type": "code",
   "execution_count": 5,
   "id": "3009c101",
   "metadata": {},
   "outputs": [
    {
     "name": "stdout",
     "output_type": "stream",
     "text": [
      "3\n",
      "2\n",
      "4 8\n",
      "15 30\n",
      "25 50\n",
      "1\n"
     ]
    }
   ],
   "source": [
    "import math\n",
    "import os\n",
    "from collections import Counter\n",
    "\n",
    "def nearlySimilarRectangles(sides):\n",
    "    divided = []\n",
    "    for i in sides:\n",
    "        divided.append(i[0]/i[1])\n",
    "    \n",
    "    result = Counter(divided)\n",
    "    for i in result.values():\n",
    "        if i >= 2:\n",
    "            return result.value[0]\n",
    "    \n",
    "\n",
    "if __name__ == '__main__':\n",
    "\n",
    "    sides_rows = int(input().strip())\n",
    "    sides_columns = int(input().strip())\n",
    "\n",
    "    sides = []\n",
    "\n",
    "    for _ in range(sides_rows):\n",
    "        sides.append(list(map(int, input().rstrip().split())))\n",
    "    result = nearlySimilarRectangles(sides)\n",
    "    print(result)"
   ]
  }
 ],
 "metadata": {
  "kernelspec": {
   "display_name": "Python 3 (ipykernel)",
   "language": "python",
   "name": "python3"
  },
  "language_info": {
   "codemirror_mode": {
    "name": "ipython",
    "version": 3
   },
   "file_extension": ".py",
   "mimetype": "text/x-python",
   "name": "python",
   "nbconvert_exporter": "python",
   "pygments_lexer": "ipython3",
   "version": "3.10.9"
  }
 },
 "nbformat": 4,
 "nbformat_minor": 5
}
