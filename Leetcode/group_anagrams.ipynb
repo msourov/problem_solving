{
 "cells": [
  {
   "cell_type": "code",
   "execution_count": 24,
   "id": "5bce38bf",
   "metadata": {},
   "outputs": [
    {
     "data": {
      "text/plain": [
       "dict_values([['eat', 'tea', 'ate'], ['tan', 'nat'], ['bat']])"
      ]
     },
     "execution_count": 24,
     "metadata": {},
     "output_type": "execute_result"
    }
   ],
   "source": [
    "from collections import defaultdict\n",
    "def group_anagrams(strs):\n",
    "    dic = defaultdict(list)\n",
    "    for i in strs:\n",
    "        dic[\"\".join(sorted(i))].append(i)\n",
    "    return dic.values()\n",
    "\n",
    "group_anagrams([\"eat\",\"tea\",\"tan\",\"ate\",\"nat\",\"bat\"])"
   ]
  },
  {
   "cell_type": "code",
   "execution_count": 10,
   "id": "9a74e80b",
   "metadata": {},
   "outputs": [
    {
     "name": "stdout",
     "output_type": "stream",
     "text": [
      "['adfgv', 'dfg', 'cvx']\n",
      "[['adfgv'], ['dfg'], ['cvx']]\n",
      "[0, 0, 0]\n",
      "[['adfgv'], ['dfg'], ['cvx']]\n"
     ]
    }
   ],
   "source": [
    "st = ['agdfv', 'gfd', 'vcx']\n",
    "s = [''.join(sorted(i)) for i in st]\n",
    "print(s)\n",
    "t = [[i] for i in s]\n",
    "print(t)\n",
    "print([s.count(t[i]) for i in range(len(s))])\n",
    "print([t[i]*s.count(*t[i]) for i in range(len(t))])\n"
   ]
  },
  {
   "cell_type": "code",
   "execution_count": 5,
   "id": "465bbf06",
   "metadata": {},
   "outputs": [
    {
     "name": "stdout",
     "output_type": "stream",
     "text": [
      "False\n"
     ]
    }
   ],
   "source": [
    "l = 'avdssv'\n",
    "print(l[::-1]==l)"
   ]
  }
 ],
 "metadata": {
  "kernelspec": {
   "display_name": "Python 3 (ipykernel)",
   "language": "python",
   "name": "python3"
  },
  "language_info": {
   "codemirror_mode": {
    "name": "ipython",
    "version": 3
   },
   "file_extension": ".py",
   "mimetype": "text/x-python",
   "name": "python",
   "nbconvert_exporter": "python",
   "pygments_lexer": "ipython3",
   "version": "3.10.5"
  }
 },
 "nbformat": 4,
 "nbformat_minor": 5
}
