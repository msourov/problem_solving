{
 "cells": [
  {
   "cell_type": "code",
   "execution_count": 32,
   "id": "6bc5c09b",
   "metadata": {},
   "outputs": [
    {
     "name": "stdout",
     "output_type": "stream",
     "text": [
      "[[-1, 0, 1]]\n"
     ]
    }
   ],
   "source": [
    "def reset(nums):\n",
    "    l = 0\n",
    "    m = len(nums)//2\n",
    "    r = len(nums)-1\n",
    "    return l, m, r\n",
    "def three_sum(lst):\n",
    "    nums = sorted(lst)\n",
    "    l, m, r = reset(nums)\n",
    "    results = []\n",
    "    exclude = []\n",
    "    while l<r and m>l and r>m:\n",
    "        res = [nums[l], nums[m], nums[r]]\n",
    "        if sum(res) == 0 and m not in exclude:\n",
    "            if res not in results:\n",
    "                results.append(res)\n",
    "#             l, m, r = reset(nums)\n",
    "            exclude.append(m)\n",
    "            m += 1\n",
    "#             return res\n",
    "#             continue\n",
    "#             return nums[l], nums[m], nums[r]\n",
    "        elif sum(res) < 0:\n",
    "            l += 1\n",
    "        else:\n",
    "            r -= 1\n",
    "    return results\n",
    "\n",
    "print(three_sum([-1,0,1,2,-1,-4]))"
   ]
  },
  {
   "cell_type": "code",
   "execution_count": 5,
   "id": "2a318eb4",
   "metadata": {},
   "outputs": [
    {
     "data": {
      "text/plain": [
       "[-4, -1, -1, 0, 1, 2]"
      ]
     },
     "execution_count": 5,
     "metadata": {},
     "output_type": "execute_result"
    }
   ],
   "source": [
    "l = [-1,0,1,2,-1,-4]\n",
    "r = sorted(l)\n",
    "r"
   ]
  },
  {
   "cell_type": "code",
   "execution_count": 28,
   "id": "c203bd86",
   "metadata": {},
   "outputs": [
    {
     "name": "stdout",
     "output_type": "stream",
     "text": [
      "[[0, 0, 0]]\n"
     ]
    }
   ],
   "source": [
    "def three_sum(lst):\n",
    "    nums = sorted(lst)\n",
    "    l1, l2, r = 0, 1, len(nums)-1\n",
    "    results = []\n",
    "    while l2 < r:\n",
    "#         if l2 == r:\n",
    "#             break\n",
    "        res = [nums[l1], nums[l2], nums[r]]\n",
    "        if sum(res) == 0:\n",
    "            if res not in results:\n",
    "                results.append(res)\n",
    "            l1+=1\n",
    "            l2+=1\n",
    "        elif sum(res) < 0:\n",
    "            l1+=1\n",
    "            l2+=1\n",
    "        else:\n",
    "            r-=1\n",
    "    return results\n",
    "\n",
    "print(three_sum([0,0,0,0]))        "
   ]
  },
  {
   "cell_type": "code",
   "execution_count": 40,
   "id": "63d4fbe8",
   "metadata": {},
   "outputs": [
    {
     "name": "stdout",
     "output_type": "stream",
     "text": [
      "[[1, 2], [-4, -1, -1], [0]]\n"
     ]
    }
   ],
   "source": [
    "def threeSum(nums):\n",
    "    nums = sorted(nums)\n",
    "    p, n = [i for i in nums if i>0], [i for i in nums if i<0]\n",
    "    z = [i for i in nums if i not in p and i not in n]\n",
    "    return [p, n, z]\n",
    "    \n",
    "\n",
    "print(threeSum([-1,0,1,2,-1,-4]))    \n",
    "    "
   ]
  }
 ],
 "metadata": {
  "kernelspec": {
   "display_name": "Python 3 (ipykernel)",
   "language": "python",
   "name": "python3"
  },
  "language_info": {
   "codemirror_mode": {
    "name": "ipython",
    "version": 3
   },
   "file_extension": ".py",
   "mimetype": "text/x-python",
   "name": "python",
   "nbconvert_exporter": "python",
   "pygments_lexer": "ipython3",
   "version": "3.9.12"
  }
 },
 "nbformat": 4,
 "nbformat_minor": 5
}
