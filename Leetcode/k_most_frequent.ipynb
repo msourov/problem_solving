{
 "cells": [
  {
   "cell_type": "code",
   "execution_count": 79,
   "id": "ec6ba699",
   "metadata": {},
   "outputs": [
    {
     "name": "stdout",
     "output_type": "stream",
     "text": [
      "[1, 2]\n"
     ]
    }
   ],
   "source": [
    "from collections import Counter, OrderedDict\n",
    "def topKFrequent(nums, k):\n",
    "    c = Counter(nums)\n",
    "    r = c.most_common(k)\n",
    "    return list(list(zip(*r))[0])\n",
    "    \n",
    "print(topKFrequent([1,1,1,2,2,3], 2))    \n"
   ]
  },
  {
   "cell_type": "code",
   "execution_count": 55,
   "id": "571a8b42",
   "metadata": {},
   "outputs": [
    {
     "ename": "TypeError",
     "evalue": "'int' object is not subscriptable",
     "output_type": "error",
     "traceback": [
      "\u001b[1;31m---------------------------------------------------------------------------\u001b[0m",
      "\u001b[1;31mTypeError\u001b[0m                                 Traceback (most recent call last)",
      "Cell \u001b[1;32mIn [55], line 6\u001b[0m\n\u001b[0;32m      3\u001b[0m \u001b[38;5;28;01mdef\u001b[39;00m \u001b[38;5;21mmost_frequent\u001b[39m(nums):\n\u001b[0;32m      4\u001b[0m \t\u001b[38;5;28;01mreturn\u001b[39;00m \u001b[38;5;28mmax\u001b[39m(\u001b[38;5;28mset\u001b[39m(nums), key \u001b[38;5;241m=\u001b[39m nums\u001b[38;5;241m.\u001b[39mcount)[\u001b[38;5;241m2\u001b[39m]\n\u001b[1;32m----> 6\u001b[0m \u001b[38;5;28mprint\u001b[39m(\u001b[43mmost_frequent\u001b[49m\u001b[43m(\u001b[49m\u001b[43mnums\u001b[49m\u001b[43m)\u001b[49m)\n",
      "Cell \u001b[1;32mIn [55], line 4\u001b[0m, in \u001b[0;36mmost_frequent\u001b[1;34m(nums)\u001b[0m\n\u001b[0;32m      3\u001b[0m \u001b[38;5;28;01mdef\u001b[39;00m \u001b[38;5;21mmost_frequent\u001b[39m(nums):\n\u001b[1;32m----> 4\u001b[0m \t\u001b[38;5;28;01mreturn\u001b[39;00m \u001b[38;5;28;43mmax\u001b[39;49m\u001b[43m(\u001b[49m\u001b[38;5;28;43mset\u001b[39;49m\u001b[43m(\u001b[49m\u001b[43mnums\u001b[49m\u001b[43m)\u001b[49m\u001b[43m,\u001b[49m\u001b[43m \u001b[49m\u001b[43mkey\u001b[49m\u001b[43m \u001b[49m\u001b[38;5;241;43m=\u001b[39;49m\u001b[43m \u001b[49m\u001b[43mnums\u001b[49m\u001b[38;5;241;43m.\u001b[39;49m\u001b[43mcount\u001b[49m\u001b[43m)\u001b[49m\u001b[43m[\u001b[49m\u001b[38;5;241;43m2\u001b[39;49m\u001b[43m]\u001b[49m\n",
      "\u001b[1;31mTypeError\u001b[0m: 'int' object is not subscriptable"
     ]
    }
   ],
   "source": [
    "# Program to find most frequent\n",
    "# element in a list\n",
    "def most_frequent(nums):\n",
    "\treturn max(set(nums), key = nums.count)[2]\n",
    "\n",
    "print(most_frequent(nums))\n"
   ]
  }
 ],
 "metadata": {
  "kernelspec": {
   "display_name": "Python 3 (ipykernel)",
   "language": "python",
   "name": "python3"
  },
  "language_info": {
   "codemirror_mode": {
    "name": "ipython",
    "version": 3
   },
   "file_extension": ".py",
   "mimetype": "text/x-python",
   "name": "python",
   "nbconvert_exporter": "python",
   "pygments_lexer": "ipython3",
   "version": "3.10.5"
  }
 },
 "nbformat": 4,
 "nbformat_minor": 5
}
