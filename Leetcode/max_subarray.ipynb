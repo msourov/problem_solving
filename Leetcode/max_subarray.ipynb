{
 "cells": [
  {
   "cell_type": "code",
   "execution_count": 3,
   "id": "0b73a182",
   "metadata": {},
   "outputs": [
    {
     "name": "stdout",
     "output_type": "stream",
     "text": [
      "23\n"
     ]
    }
   ],
   "source": [
    "nums = [5,4,-1,7,8]\n",
    "max_sum = nums[0]\n",
    "cur_sum = 0\n",
    "\n",
    "for i in nums:\n",
    "    if cur_sum < 0:\n",
    "        cur_sum = 0\n",
    "    cur_sum += i\n",
    "    max_sum = max(max_sum, cur_sum)\n",
    "print(max_sum)"
   ]
  }
 ],
 "metadata": {
  "kernelspec": {
   "display_name": "Python 3 (ipykernel)",
   "language": "python",
   "name": "python3"
  },
  "language_info": {
   "codemirror_mode": {
    "name": "ipython",
    "version": 3
   },
   "file_extension": ".py",
   "mimetype": "text/x-python",
   "name": "python",
   "nbconvert_exporter": "python",
   "pygments_lexer": "ipython3",
   "version": "3.10.5"
  }
 },
 "nbformat": 4,
 "nbformat_minor": 5
}
