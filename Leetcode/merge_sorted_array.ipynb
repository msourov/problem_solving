{
 "cells": [
  {
   "cell_type": "code",
   "execution_count": 10,
   "id": "775061c7",
   "metadata": {},
   "outputs": [
    {
     "data": {
      "text/plain": [
       "[1, 2, 3, 4, 5, 6]"
      ]
     },
     "execution_count": 10,
     "metadata": {},
     "output_type": "execute_result"
    }
   ],
   "source": [
    "nums1 = [4,0,0,0,0,0]\n",
    "nums2 = [1,2,3,5,6]\n",
    "m = 1\n",
    "n = 5\n",
    "if n<1:\n",
    "    nums1 = nums1[:m]\n",
    "else:\n",
    "    nums1[-n:] = nums2\n",
    "    nums1.sort()\n",
    "nums1"
   ]
  },
  {
   "cell_type": "code",
   "execution_count": 12,
   "id": "670515b1",
   "metadata": {},
   "outputs": [],
   "source": [
    "def merge_two_sorted_arrays(A, m, B, n):\n",
    "    a, b, write_index = m-1, n-1, m + n - 1\n",
    "\n",
    "    while b >= 0:\n",
    "        if a >= 0 and A[a] > B[b]:\n",
    "            A[write_index] = A[a]\n",
    "            a -= 1\n",
    "        else:\n",
    "            A[write_index] = B[b]\n",
    "            b -= 1\n",
    "\n",
    "        write_index -= 1"
   ]
  },
  {
   "cell_type": "code",
   "execution_count": null,
   "id": "737fe23c",
   "metadata": {},
   "outputs": [],
   "source": []
  }
 ],
 "metadata": {
  "kernelspec": {
   "display_name": "Python 3 (ipykernel)",
   "language": "python",
   "name": "python3"
  },
  "language_info": {
   "codemirror_mode": {
    "name": "ipython",
    "version": 3
   },
   "file_extension": ".py",
   "mimetype": "text/x-python",
   "name": "python",
   "nbconvert_exporter": "python",
   "pygments_lexer": "ipython3",
   "version": "3.10.5"
  }
 },
 "nbformat": 4,
 "nbformat_minor": 5
}
