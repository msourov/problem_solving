{
 "cells": [
  {
   "cell_type": "code",
   "execution_count": null,
   "id": "db4ee32a",
   "metadata": {},
   "outputs": [],
   "source": [
    "class Solution:\n",
    "    def containsNearbyDuplicate(self, nums: List[int], k: int) -> bool:\n",
    "        seen = {}\n",
    "        for i in range(len(nums)):\n",
    "            if nums[i] in seen and i-seen[nums[i]] <= k:\n",
    "                return True\n",
    "            seen[nums[i]] = i\n",
    "            \n",
    "        return False\n"
   ]
  },
  {
   "cell_type": "code",
   "execution_count": 37,
   "id": "dd167aa9",
   "metadata": {},
   "outputs": [
    {
     "name": "stdout",
     "output_type": "stream",
     "text": [
      "Counter({1: 3, 0: 1})\n",
      "[None]\n",
      "[]\n"
     ]
    }
   ],
   "source": [
    "from collections import Counter\n",
    "c = Counter(lst)\n",
    "print(c)\n",
    "r = [c.get(i) for i in c.values() if i>1]\n",
    "print(r)\n",
    "print([i for i, v in enumerate(lst) if v==r[0]])"
   ]
  }
 ],
 "metadata": {
  "kernelspec": {
   "display_name": "Python 3 (ipykernel)",
   "language": "python",
   "name": "python3"
  },
  "language_info": {
   "codemirror_mode": {
    "name": "ipython",
    "version": 3
   },
   "file_extension": ".py",
   "mimetype": "text/x-python",
   "name": "python",
   "nbconvert_exporter": "python",
   "pygments_lexer": "ipython3",
   "version": "3.9.12"
  }
 },
 "nbformat": 4,
 "nbformat_minor": 5
}
