{
 "cells": [
  {
   "cell_type": "code",
   "execution_count": 28,
   "id": "81c71b89",
   "metadata": {},
   "outputs": [
    {
     "name": "stdout",
     "output_type": "stream",
     "text": [
      "9 3\n",
      "5\n"
     ]
    }
   ],
   "source": [
    "def count_odd(*args):\n",
    "    high, low = list(map(int, *args))\n",
    "    if high-low == 0:\n",
    "        result = high if high % 2 == 1 else 'No odd found'\n",
    "        return result\n",
    "    if all(x%2==0 for x in [low, high]) or not all(x&1 for x in [low, high]): # Both even\n",
    "        result = (high-low)//2+1\n",
    "    else:\n",
    "        result = (high+1)//2\n",
    "    return result\n",
    "        \n",
    "    \n",
    "if __name__=='__main__':\n",
    "    print(count_odd(input().split(' ')))"
   ]
  },
  {
   "cell_type": "code",
   "execution_count": 23,
   "id": "58bf6801",
   "metadata": {},
   "outputs": [
    {
     "name": "stdout",
     "output_type": "stream",
     "text": [
      "False\n"
     ]
    }
   ],
   "source": [
    "low, high = 2, 4\n",
    "print(not all([x&1 for x in [1, 3, 5]]))"
   ]
  }
 ],
 "metadata": {
  "kernelspec": {
   "display_name": "Python 3 (ipykernel)",
   "language": "python",
   "name": "python3"
  },
  "language_info": {
   "codemirror_mode": {
    "name": "ipython",
    "version": 3
   },
   "file_extension": ".py",
   "mimetype": "text/x-python",
   "name": "python",
   "nbconvert_exporter": "python",
   "pygments_lexer": "ipython3",
   "version": "3.9.12"
  }
 },
 "nbformat": 4,
 "nbformat_minor": 5
}
