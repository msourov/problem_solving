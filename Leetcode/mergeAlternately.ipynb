{
 "cells": [
  {
   "cell_type": "code",
   "execution_count": 40,
   "id": "ee385b9e",
   "metadata": {},
   "outputs": [],
   "source": [
    "import itertools\n",
    "def mergeAlternately(word1: str, word2: str) -> str:\n",
    "    return \"\".join(a + b for a, b in zip_longest(word1, word2, fillvalue=\"\"))\n"
   ]
  }
 ],
 "metadata": {
  "kernelspec": {
   "display_name": "Python 3 (ipykernel)",
   "language": "python",
   "name": "python3"
  },
  "language_info": {
   "codemirror_mode": {
    "name": "ipython",
    "version": 3
   },
   "file_extension": ".py",
   "mimetype": "text/x-python",
   "name": "python",
   "nbconvert_exporter": "python",
   "pygments_lexer": "ipython3",
   "version": "3.9.12"
  }
 },
 "nbformat": 4,
 "nbformat_minor": 5
}
