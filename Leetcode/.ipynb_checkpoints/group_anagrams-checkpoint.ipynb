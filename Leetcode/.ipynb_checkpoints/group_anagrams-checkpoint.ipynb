{
 "cells": [
  {
   "cell_type": "code",
   "execution_count": 22,
   "id": "7282f25b",
   "metadata": {},
   "outputs": [
    {
     "name": "stdout",
     "output_type": "stream",
     "text": [
      "['aet', 'aet', 'ant', 'aet', 'ant', 'abt'] [['abt'], ['ant'], ['aet']]\n"
     ]
    }
   ],
   "source": [
    "import itertools\n",
    "def group_anagrams(strs):\n",
    "    sorted_strs = [''.join(sorted(i)) for i in strs]\n",
    "    set_of_strs = [[i] for i in list(set(sorted_strs))]\n",
    "    #return [set_of_strs.append()]\n",
    "    print(sorted_strs, set_of_strs)\n",
    "    print([set_of_strs[i]*sorted_strs.count(set_of_strs[i])])\n",
    "    \n",
    "\n",
    "group_anagrams([\"eat\",\"tea\",\"tan\",\"ate\",\"nat\",\"bat\"])"
   ]
  },
  {
   "cell_type": "code",
   "execution_count": 29,
   "id": "d3c0bcab",
   "metadata": {},
   "outputs": [
    {
     "name": "stdout",
     "output_type": "stream",
     "text": [
      "['adfgv', 'dfg', 'cvx']\n",
      "[['adfgv'], ['dfg'], ['cvx']]\n",
      "[['adfgv', 'adfgv'], ['dfg', 'dfg'], ['cvx', 'cvx']]\n"
     ]
    }
   ],
   "source": [
    "st = ['agdfv', 'gfd', 'vcx']\n",
    "s = [''.join(sorted(i)) for i in st]\n",
    "print(s)\n",
    "t = [[i] for i in s]\n",
    "print(t)\n",
    "print([t[i]*2 for i in range(len(t))])\n"
   ]
  }
 ],
 "metadata": {
  "kernelspec": {
   "display_name": "Python 3 (ipykernel)",
   "language": "python",
   "name": "python3"
  },
  "language_info": {
   "codemirror_mode": {
    "name": "ipython",
    "version": 3
   },
   "file_extension": ".py",
   "mimetype": "text/x-python",
   "name": "python",
   "nbconvert_exporter": "python",
   "pygments_lexer": "ipython3",
   "version": "3.10.5"
  }
 },
 "nbformat": 4,
 "nbformat_minor": 5
}
