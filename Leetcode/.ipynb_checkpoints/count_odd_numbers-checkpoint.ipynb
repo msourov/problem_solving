{
 "cells": [
  {
   "cell_type": "code",
   "execution_count": 34,
   "id": "81c71b89",
   "metadata": {},
   "outputs": [
    {
     "name": "stdout",
     "output_type": "stream",
     "text": [
      "3 7\n",
      "[4, 6, 8]\n"
     ]
    }
   ],
   "source": [
    "def count_odd(*args):\n",
    "    high, low = list(map(int, *args))\n",
    "    i = 0\n",
    "    print([i+1 for i in range(high, low+1) if i%2!=0])\n",
    "    \n",
    "    \n",
    "if __name__=='__main__':\n",
    "    count_odd(input().split(' '))"
   ]
  },
  {
   "cell_type": "code",
   "execution_count": 40,
   "id": "0f2f419d",
   "metadata": {},
   "outputs": [
    {
     "name": "stdout",
     "output_type": "stream",
     "text": [
      "3\n",
      "7\n",
      "7\n"
     ]
    }
   ],
   "source": [
    "low = int(input())\n",
    "high = int(input())\n",
    "print(high+1//2)"
   ]
  }
 ],
 "metadata": {
  "kernelspec": {
   "display_name": "Python 3 (ipykernel)",
   "language": "python",
   "name": "python3"
  },
  "language_info": {
   "codemirror_mode": {
    "name": "ipython",
    "version": 3
   },
   "file_extension": ".py",
   "mimetype": "text/x-python",
   "name": "python",
   "nbconvert_exporter": "python",
   "pygments_lexer": "ipython3",
   "version": "3.9.12"
  }
 },
 "nbformat": 4,
 "nbformat_minor": 5
}
