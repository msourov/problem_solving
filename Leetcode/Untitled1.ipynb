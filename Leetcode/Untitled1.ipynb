{
 "cells": [
  {
   "cell_type": "code",
   "execution_count": 6,
   "id": "826e1652",
   "metadata": {},
   "outputs": [
    {
     "name": "stdout",
     "output_type": "stream",
     "text": [
      "Assignemnt expr\n",
      "<class 'str'>\n"
     ]
    }
   ],
   "source": [
    "# Assignment Expression\n",
    "\n",
    "print(walrus := \"Assignemnt expr\")\n",
    "print(type(walrus))"
   ]
  },
  {
   "cell_type": "code",
   "execution_count": 4,
   "id": "cde9b8dc",
   "metadata": {},
   "outputs": [
    {
     "name": "stdout",
     "output_type": "stream",
     "text": [
      "Enter somethingcat\n",
      "Enter somethingrat\n",
      "Enter somethingbat\n",
      "Enter somethingquit\n",
      "['cat', 'rat', 'bat']\n"
     ]
    }
   ],
   "source": [
    "inputs = list()\n",
    "while(current:=input(\"Enter something\"))!=\"quit\":\n",
    "    inputs.append(current)\n",
    "    \n",
    "print(inputs)"
   ]
  },
  {
   "cell_type": "code",
   "execution_count": 23,
   "id": "850a8348",
   "metadata": {},
   "outputs": [
    {
     "data": {
      "text/plain": [
       "50"
      ]
     },
     "execution_count": 23,
     "metadata": {},
     "output_type": "execute_result"
    }
   ],
   "source": [
    "# Bitwise Operator\n",
    "\n",
    "a = 30\n",
    "b = 20\n",
    "(a^b) + 2*(a&b)\n",
    "# print(a^b)"
   ]
  }
 ],
 "metadata": {
  "kernelspec": {
   "display_name": "Python 3 (ipykernel)",
   "language": "python",
   "name": "python3"
  },
  "language_info": {
   "codemirror_mode": {
    "name": "ipython",
    "version": 3
   },
   "file_extension": ".py",
   "mimetype": "text/x-python",
   "name": "python",
   "nbconvert_exporter": "python",
   "pygments_lexer": "ipython3",
   "version": "3.10.9"
  }
 },
 "nbformat": 4,
 "nbformat_minor": 5
}
