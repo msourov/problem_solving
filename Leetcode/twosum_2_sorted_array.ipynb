{
 "cells": [
  {
   "cell_type": "code",
   "execution_count": 18,
   "id": "16810bec",
   "metadata": {},
   "outputs": [
    {
     "name": "stdout",
     "output_type": "stream",
     "text": [
      "[0, 1]\n"
     ]
    }
   ],
   "source": [
    "def twoSum(nums, target):\n",
    "    p1 = 0\n",
    "    p2 = len(nums)-1\n",
    "    for i in range(len(nums)):\n",
    "        if nums[p1]+nums[p2] > target and p1<p2:\n",
    "            p2 -= 1\n",
    "        elif nums[p1]+nums[p2] < target and p1<p2:\n",
    "            p1 += 1\n",
    "        else:\n",
    "            return [p1, p2]\n",
    "            \n",
    "        \n",
    "print(twoSum([-1,0], -1))"
   ]
  },
  {
   "cell_type": "code",
   "execution_count": 1,
   "id": "603ea9fd",
   "metadata": {},
   "outputs": [
    {
     "name": "stdout",
     "output_type": "stream",
     "text": [
      "None\n"
     ]
    }
   ],
   "source": [
    "nums, target = [1, 11, -3, 8, 9, -5], 6\n",
    "\n",
    "def twoSum(l, r):\n",
    "    if nums[l]+nums[r] > target:\n",
    "        twoSum(l, r-1)\n",
    "    elif nums[l]+nums[r] < target:\n",
    "        twoSum(l+1, r)\n",
    "    else:\n",
    "        return l+1, r+1\n",
    "        \n",
    "print(twoSum(0, len(nums)-1))"
   ]
  }
 ],
 "metadata": {
  "kernelspec": {
   "display_name": "Python 3 (ipykernel)",
   "language": "python",
   "name": "python3"
  },
  "language_info": {
   "codemirror_mode": {
    "name": "ipython",
    "version": 3
   },
   "file_extension": ".py",
   "mimetype": "text/x-python",
   "name": "python",
   "nbconvert_exporter": "python",
   "pygments_lexer": "ipython3",
   "version": "3.9.12"
  }
 },
 "nbformat": 4,
 "nbformat_minor": 5
}
