{
 "cells": [
  {
   "cell_type": "code",
   "execution_count": 72,
   "id": "e780404f",
   "metadata": {},
   "outputs": [
    {
     "name": "stdout",
     "output_type": "stream",
     "text": [
      "0\n",
      "[0, 0]\n",
      "[0, 1]\n",
      "[0, 2]\n",
      "[0, 3]\n",
      "1\n",
      "[1, 1]\n",
      "[1, 2]\n",
      "[1, 3]\n",
      "[1, 4]\n",
      "2\n",
      "[2, 2]\n",
      "[2, 3]\n",
      "[2, 4]\n",
      "[2, 5]\n",
      "3\n",
      "[3, 3]\n",
      "[3, 4]\n",
      "[3, 5]\n",
      "[3, 6]\n",
      "4\n",
      "[4, 4]\n",
      "[4, 5]\n",
      "[4, 6]\n",
      "[4, 7]\n",
      "5\n",
      "[5, 5]\n",
      "[5, 6]\n",
      "[5, 7]\n",
      "[5, 8]\n",
      "6\n",
      "[6, 6]\n",
      "[6, 7]\n",
      "[6, 8]\n",
      "[6, 9]\n",
      "7\n",
      "[7, 7]\n",
      "[7, 8]\n",
      "8\n",
      "[8, 8]\n",
      "[8, 9]\n",
      "[8, 10]\n"
     ]
    },
    {
     "ename": "IndexError",
     "evalue": "list index out of range",
     "output_type": "error",
     "traceback": [
      "\u001b[1;31m---------------------------------------------------------------------------\u001b[0m",
      "\u001b[1;31mIndexError\u001b[0m                                Traceback (most recent call last)",
      "Input \u001b[1;32mIn [72]\u001b[0m, in \u001b[0;36m<cell line: 9>\u001b[1;34m()\u001b[0m\n\u001b[0;32m     16\u001b[0m \u001b[38;5;28;01mfor\u001b[39;00m j \u001b[38;5;129;01min\u001b[39;00m \u001b[38;5;28mrange\u001b[39m(i, limit):\n\u001b[0;32m     17\u001b[0m     \u001b[38;5;28mprint\u001b[39m([i, j])\n\u001b[1;32m---> 18\u001b[0m     \u001b[38;5;28;01mif\u001b[39;00m i\u001b[38;5;241m!=\u001b[39mj \u001b[38;5;129;01mand\u001b[39;00m j\u001b[38;5;241m-\u001b[39mi \u001b[38;5;241m<\u001b[39m\u001b[38;5;241m=\u001b[39m indexDiff \u001b[38;5;129;01mand\u001b[39;00m \u001b[38;5;28mabs\u001b[39m(nums[i]\u001b[38;5;241m-\u001b[39m\u001b[43mnums\u001b[49m\u001b[43m[\u001b[49m\u001b[43mj\u001b[49m\u001b[43m]\u001b[49m) \u001b[38;5;241m<\u001b[39m\u001b[38;5;241m=\u001b[39m valueDiff:\n\u001b[0;32m     19\u001b[0m         flag \u001b[38;5;241m=\u001b[39m \u001b[38;5;28;01mTrue\u001b[39;00m\n\u001b[0;32m     20\u001b[0m         \u001b[38;5;28;01mbreak\u001b[39;00m\n",
      "\u001b[1;31mIndexError\u001b[0m: list index out of range"
     ]
    }
   ],
   "source": [
    "# nums = [8,7,15,1,6,1,9,15]\n",
    "nums = [0,10,22,15,0,5,22,12,1,5]\n",
    "indexDiff = 3\n",
    "valueDiff = 3\n",
    "flag = False\n",
    "if len(nums) == indexDiff:\n",
    "    if abs(nums[indexDiff-1]-nums[0]) <= valueDiff:\n",
    "        print(True)\n",
    "for i in range(len(nums)-1):\n",
    "    print(i)\n",
    "    if i+indexDiff != len(nums):\n",
    "        limit = i+indexDiff+1\n",
    "    else:\n",
    "        limit = len(nums)-1\n",
    "    \n",
    "    for j in range(i, limit):\n",
    "        print([i, j])\n",
    "        if i!=j and j-i <= indexDiff and abs(nums[i]-nums[j]) <= valueDiff:\n",
    "            flag = True\n",
    "            break\n",
    "    \n",
    "print(flag)        "
   ]
  },
  {
   "cell_type": "code",
   "execution_count": 45,
   "id": "d0df2ef5",
   "metadata": {},
   "outputs": [
    {
     "ename": "IndexError",
     "evalue": "list index out of range",
     "output_type": "error",
     "traceback": [
      "\u001b[1;31m---------------------------------------------------------------------------\u001b[0m",
      "\u001b[1;31mIndexError\u001b[0m                                Traceback (most recent call last)",
      "Input \u001b[1;32mIn [45]\u001b[0m, in \u001b[0;36m<cell line: 2>\u001b[1;34m()\u001b[0m\n\u001b[0;32m      2\u001b[0m \u001b[38;5;28;01mfor\u001b[39;00m i, v \u001b[38;5;129;01min\u001b[39;00m \u001b[38;5;28menumerate\u001b[39m(nums):\n\u001b[0;32m      3\u001b[0m     \u001b[38;5;28;01mfor\u001b[39;00m j \u001b[38;5;129;01min\u001b[39;00m \u001b[38;5;28mrange\u001b[39m(i, i\u001b[38;5;241m+\u001b[39mindexDiff\u001b[38;5;241m+\u001b[39m\u001b[38;5;241m1\u001b[39m):\n\u001b[1;32m----> 4\u001b[0m         \u001b[38;5;28;01mif\u001b[39;00m i\u001b[38;5;241m!=\u001b[39m j \u001b[38;5;129;01mand\u001b[39;00m j\u001b[38;5;241m-\u001b[39mi \u001b[38;5;241m<\u001b[39m\u001b[38;5;241m=\u001b[39m indexDiff \u001b[38;5;129;01mand\u001b[39;00m \u001b[38;5;28mabs\u001b[39m(v\u001b[38;5;241m-\u001b[39m\u001b[43mnums\u001b[49m\u001b[43m[\u001b[49m\u001b[43mj\u001b[49m\u001b[43m]\u001b[49m) \u001b[38;5;241m<\u001b[39m\u001b[38;5;241m=\u001b[39m valueDiff:\n\u001b[0;32m      5\u001b[0m             flag \u001b[38;5;241m=\u001b[39m \u001b[38;5;28;01mTrue\u001b[39;00m\n\u001b[0;32m      6\u001b[0m             \u001b[38;5;28;01mbreak\u001b[39;00m\n",
      "\u001b[1;31mIndexError\u001b[0m: list index out of range"
     ]
    }
   ],
   "source": [
    "flag = False\n",
    "for i, v in enumerate(nums):\n",
    "    for j in range(i, i+indexDiff+1):\n",
    "        if i!= j and j-i <= indexDiff and abs(v-nums[j]) <= valueDiff:\n",
    "            flag = True\n",
    "            break\n",
    "print(flag)"
   ]
  },
  {
   "cell_type": "code",
   "execution_count": 46,
   "id": "aa4c53f6",
   "metadata": {},
   "outputs": [],
   "source": [
    "for i in range(0):\n",
    "    print(i)\n",
    "# print(list(filter(lambda x:s[x]==3, s))[0])"
   ]
  }
 ],
 "metadata": {
  "kernelspec": {
   "display_name": "Python 3 (ipykernel)",
   "language": "python",
   "name": "python3"
  },
  "language_info": {
   "codemirror_mode": {
    "name": "ipython",
    "version": 3
   },
   "file_extension": ".py",
   "mimetype": "text/x-python",
   "name": "python",
   "nbconvert_exporter": "python",
   "pygments_lexer": "ipython3",
   "version": "3.9.12"
  }
 },
 "nbformat": 4,
 "nbformat_minor": 5
}
