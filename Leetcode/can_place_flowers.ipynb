{
 "cells": [
  {
   "cell_type": "code",
   "execution_count": 19,
   "id": "47356179",
   "metadata": {},
   "outputs": [
    {
     "name": "stdout",
     "output_type": "stream",
     "text": [
      "Second condition True at [0, 0, 0]\n",
      "False\n"
     ]
    }
   ],
   "source": [
    "lst = [1,0,0,0,1]\n",
    "n = 2\n",
    "for i in range(len(lst)):\n",
    "    if sum(lst[0:2])==0:\n",
    "        print(f'First condition True at {i}')\n",
    "        n-=1\n",
    "    elif sum(lst[i:i+3])==0 :\n",
    "        print(f'Second condition True at {lst[i:i+3]}')\n",
    "        n-=1\n",
    "    elif sum(lst[-2:])==0:\n",
    "        print(f'Third condition true at {i}')\n",
    "        n-=1\n",
    "if n==0:\n",
    "    print(True)\n",
    "else:\n",
    "    print(False)"
   ]
  },
  {
   "cell_type": "code",
   "execution_count": 24,
   "id": "38b01788",
   "metadata": {},
   "outputs": [
    {
     "name": "stdout",
     "output_type": "stream",
     "text": [
      "false\n"
     ]
    }
   ],
   "source": [
    "def canPlaceFlowers(flowerbed, n):\n",
    "    for i in range(len(flowerbed)):\n",
    "        if sum(flowerbed[0:2])==0 or sum(flowerbed[i:i+3])==0 or sum(flowerbed[-2:])==0:\n",
    "                n-=1\n",
    "    return 'true' if n==0 else 'false'\n",
    "print(canPlaceFlowers([1,0,0,0,1], 2))"
   ]
  }
 ],
 "metadata": {
  "kernelspec": {
   "display_name": "Python 3 (ipykernel)",
   "language": "python",
   "name": "python3"
  },
  "language_info": {
   "codemirror_mode": {
    "name": "ipython",
    "version": 3
   },
   "file_extension": ".py",
   "mimetype": "text/x-python",
   "name": "python",
   "nbconvert_exporter": "python",
   "pygments_lexer": "ipython3",
   "version": "3.9.12"
  }
 },
 "nbformat": 4,
 "nbformat_minor": 5
}
