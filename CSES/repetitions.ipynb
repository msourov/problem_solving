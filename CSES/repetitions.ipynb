{
 "cells": [
  {
   "cell_type": "code",
   "execution_count": 30,
   "id": "1a724ac6",
   "metadata": {},
   "outputs": [
    {
     "name": "stdout",
     "output_type": "stream",
     "text": [
      "3\n"
     ]
    }
   ],
   "source": [
    "# Repetitions\n",
    "\n",
    "def repetitions(seq):\n",
    "    max_len, cur = 1, 0\n",
    "    cur_seq = seq[0]\n",
    "    for i in seq:\n",
    "        if i == cur_seq:\n",
    "            cur+=1\n",
    "            max_len = max(max_len, cur)\n",
    "        else:\n",
    "            cur_seq = i\n",
    "            cur = 1\n",
    "    return max_len\n",
    "        \n",
    "            \n",
    "print(repetitions(input()))"
   ]
  }
 ],
 "metadata": {
  "kernelspec": {
   "display_name": "Python 3 (ipykernel)",
   "language": "python",
   "name": "python3"
  },
  "language_info": {
   "codemirror_mode": {
    "name": "ipython",
    "version": 3
   },
   "file_extension": ".py",
   "mimetype": "text/x-python",
   "name": "python",
   "nbconvert_exporter": "python",
   "pygments_lexer": "ipython3",
   "version": "3.10.9"
  }
 },
 "nbformat": 4,
 "nbformat_minor": 5
}
