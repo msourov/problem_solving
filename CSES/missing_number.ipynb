{
 "cells": [
  {
   "cell_type": "code",
   "execution_count": null,
   "id": "e0251c4b",
   "metadata": {},
   "outputs": [],
   "source": [
    "# Missing Number\n",
    "\n",
    "def missing_number(n, arr):\n",
    "    s = sum(arr)\n",
    "    return int(n*(n+1)/2-s) # n*(n+1)/2 produces sum of all positive integers till n\n",
    "\n",
    "n = int(input())\n",
    "arr = list(map(int, input().split(' ')))\n",
    "print(missing_number(n, arr))"
   ]
  }
 ],
 "metadata": {
  "kernelspec": {
   "display_name": "Python 3 (ipykernel)",
   "language": "python",
   "name": "python3"
  },
  "language_info": {
   "codemirror_mode": {
    "name": "ipython",
    "version": 3
   },
   "file_extension": ".py",
   "mimetype": "text/x-python",
   "name": "python",
   "nbconvert_exporter": "python",
   "pygments_lexer": "ipython3",
   "version": "3.10.9"
  }
 },
 "nbformat": 4,
 "nbformat_minor": 5
}
