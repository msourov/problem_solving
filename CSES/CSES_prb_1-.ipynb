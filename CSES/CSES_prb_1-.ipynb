{
 "cells": [
  {
   "cell_type": "code",
   "execution_count": 5,
   "id": "41317b17",
   "metadata": {},
   "outputs": [
    {
     "name": "stdout",
     "output_type": "stream",
     "text": [
      "3 10 5 16 8 4 2 1 "
     ]
    }
   ],
   "source": [
    "# Weird Algorithm\n",
    "\n",
    "def weird(n):\n",
    "    while True:\n",
    "        print(f'{n} ',end='')\n",
    "        if n == 1:\n",
    "            return\n",
    "        if n%2 == 0:\n",
    "            n = n//2\n",
    "        else:\n",
    "            n = n*3+1\n",
    "        \n",
    "weird(int(input()))"
   ]
  },
  {
   "cell_type": "code",
   "execution_count": 16,
   "id": "246e897d",
   "metadata": {},
   "outputs": [
    {
     "name": "stdout",
     "output_type": "stream",
     "text": [
      "4\n"
     ]
    }
   ],
   "source": [
    "# Missing Number\n",
    "\n",
    "def missing_number(n, arr):\n",
    "    s = sum(arr)\n",
    "    return int(n*(n+1)/2-s) # n*(n+1)/2 produces sum of all positive integers till n\n",
    "\n",
    "n = int(input())\n",
    "arr = list(map(int, input().split(' ')))\n",
    "print(missing_number(n, arr))"
   ]
  },
  {
   "cell_type": "code",
   "execution_count": 17,
   "id": "d8be36fb",
   "metadata": {},
   "outputs": [
    {
     "name": "stdout",
     "output_type": "stream",
     "text": [
      "3\n"
     ]
    }
   ],
   "source": [
    "# Repetitions\n",
    "\n",
    "def repetitions(seq):\n",
    "    max_len, cur = 1, 0\n",
    "    cur_seq = seq[0]\n",
    "    for i in seq:\n",
    "        if i == cur_seq:\n",
    "            cur+=1\n",
    "            max_len = max(max_len, cur)\n",
    "        else:\n",
    "            cur_seq = i\n",
    "            cur = 1\n",
    "    return max_len\n",
    "        \n",
    "            \n",
    "print(repetitions('ATTCGGGA'))"
   ]
  },
  {
   "cell_type": "code",
   "execution_count": null,
   "id": "227349b3",
   "metadata": {},
   "outputs": [],
   "source": [
    "# Increasing array\n",
    "\n",
    "def increasing_array(n, arr):\n",
    "    moves = 0\n",
    "    last = arr[0]\n",
    "    for i in range(1, n):\n",
    "        if arr[i]<last:\n",
    "            to_add = last-arr[i]\n",
    "            moves = moves+to_add\n",
    "            arr[i] +=  to_add\n",
    "        last=arr[i]\n",
    "    return moves\n",
    "    \n",
    "n = int(input())\n",
    "arr = list(map(int, input().split(' ')))[:n]\n",
    "print(increasing_array(n, arr))"
   ]
  }
 ],
 "metadata": {
  "kernelspec": {
   "display_name": "Python 3 (ipykernel)",
   "language": "python",
   "name": "python3"
  },
  "language_info": {
   "codemirror_mode": {
    "name": "ipython",
    "version": 3
   },
   "file_extension": ".py",
   "mimetype": "text/x-python",
   "name": "python",
   "nbconvert_exporter": "python",
   "pygments_lexer": "ipython3",
   "version": "3.10.9"
  }
 },
 "nbformat": 4,
 "nbformat_minor": 5
}
